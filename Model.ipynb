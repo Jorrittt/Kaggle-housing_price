{
 "cells": [
  {
   "cell_type": "code",
   "execution_count": 2,
   "metadata": {},
   "outputs": [],
   "source": [
    "import pandas as pd\n",
    "import numpy as np\n",
    "import seaborn as sns\n",
    "import matplotlib.pyplot as plt\n",
    "from sklearn.ensemble import RandomForestRegressor \n",
    "from sklearn.model_selection import cross_val_score, KFold\n",
    "from sklearn.metrics import mean_squared_error, r2_score\n",
    "from xgboost import XGBRegressor\n",
    "\n",
    "\n",
    "\n",
    "testdata= pd.read_csv('data/test.csv')\n",
    "traindata= pd.read_csv('data/train.csv')"
   ]
  },
  {
   "cell_type": "code",
   "execution_count": 4,
   "metadata": {},
   "outputs": [],
   "source": [
    "traindata1 = traindata.select_dtypes(exclude=['object'])\n",
    "trainx=traindata1[[\"OverallQual\",\"GrLivArea\", \"GarageArea\", \"TotalBsmtSF\", \"1stFlrSF\", \"YearBuilt\"]]\n",
    "trainy=traindata1[\"SalePrice\"]\n",
    "\n",
    "testdata1 = testdata.select_dtypes(exclude=['object'])\n",
    "testx=testdata1[[\"OverallQual\",\"GrLivArea\", \"GarageArea\", \"TotalBsmtSF\", \"1stFlrSF\", \"YearBuilt\"]]\n"
   ]
  },
  {
   "cell_type": "code",
   "execution_count": 20,
   "metadata": {},
   "outputs": [
    {
     "name": "stdout",
     "output_type": "stream",
     "text": [
      "Submission file created successfully!\n"
     ]
    }
   ],
   "source": [
    "RFregres=RandomForestRegressor(n_estimators=100,\n",
    "    max_depth=15,\n",
    "    min_samples_split=5,    \n",
    "    min_samples_leaf=3,      \n",
    "    random_state=42)\n",
    "RFregres.fit(trainx,trainy)\n",
    "pred=RFregres.predict(testx)\n",
    "\n",
    "# 3. Create submission file for Kaggle\n",
    "submission = pd.DataFrame({\n",
    "    'Id': testdata.Id,\n",
    "    'SalePrice': pred\n",
    "})\n",
    "submission.to_csv('submission.csv', index=False)\n",
    "print(\"Submission file created successfully!\")"
   ]
  },
  {
   "cell_type": "code",
   "execution_count": 21,
   "metadata": {},
   "outputs": [
    {
     "name": "stdout",
     "output_type": "stream",
     "text": [
      "Training RMSE: 20676.01\n",
      "Validation RMSE: 32960.11\n",
      "Training R2: 0.928\n",
      "Validation R2: 0.858\n"
     ]
    }
   ],
   "source": [
    "# Train-test split for direct comparison\n",
    "from sklearn.model_selection import train_test_split\n",
    "\n",
    "X_train, X_val, y_train, y_val = train_test_split(trainx, trainy, test_size=0.2, random_state=42)\n",
    "\n",
    "# Train the model\n",
    "RFregres.fit(X_train, y_train)\n",
    "\n",
    "# Calculate metrics on both sets\n",
    "train_pred = RFregres.predict(X_train)\n",
    "val_pred = RFregres.predict(X_val)\n",
    "\n",
    "train_rmse = np.sqrt(mean_squared_error(y_train, train_pred))\n",
    "val_rmse = np.sqrt(mean_squared_error(y_val, val_pred))\n",
    "\n",
    "train_r2 = r2_score(y_train, train_pred)\n",
    "val_r2 = r2_score(y_val, val_pred)\n",
    "\n",
    "print(f\"Training RMSE: {train_rmse:.2f}\")\n",
    "print(f\"Validation RMSE: {val_rmse:.2f}\")\n",
    "print(f\"Training R2: {train_r2:.3f}\")\n",
    "print(f\"Validation R2: {val_r2:.3f}\")"
   ]
  },
  {
   "cell_type": "code",
   "execution_count": 22,
   "metadata": {},
   "outputs": [
    {
     "name": "stdout",
     "output_type": "stream",
     "text": [
      "\n",
      "RMSE scores for each fold:\n",
      "Fold 1: 37021.13\n",
      "Fold 2: 29494.51\n",
      "Fold 3: 26273.95\n",
      "Fold 4: 32132.58\n",
      "Fold 5: 40238.59\n",
      "Fold 6: 40220.69\n",
      "Fold 7: 33878.29\n",
      "Fold 8: 29053.75\n",
      "Fold 9: 29146.19\n",
      "Fold 10: 25924.82\n",
      "\n",
      "Average RMSE: 32338.45\n",
      "\n",
      "R2 scores for each fold:\n",
      "Fold 1: 0.850\n",
      "Fold 2: 0.859\n",
      "Fold 3: 0.876\n",
      "Fold 4: 0.871\n",
      "Fold 5: 0.682\n",
      "Fold 6: 0.727\n",
      "Fold 7: 0.841\n",
      "Fold 8: 0.841\n",
      "Fold 9: 0.834\n",
      "Fold 10: 0.874\n",
      "\n",
      "Average R2: 0.826\n"
     ]
    }
   ],
   "source": [
    "# Create 10-fold cross validation\n",
    "kf = KFold(n_splits=10, shuffle=True, random_state=42)\n",
    "\n",
    "# Calculate RMSE scores\n",
    "mse_scores = cross_val_score(RFregres, trainx, trainy, \n",
    "                           scoring='neg_mean_squared_error', \n",
    "                           cv=kf)\n",
    "rmse_scores = np.sqrt(-mse_scores)\n",
    "\n",
    "# Calculate R2 scores\n",
    "r2_scores = cross_val_score(RFregres, trainx, trainy, \n",
    "                          scoring='r2', \n",
    "                          cv=kf)\n",
    "\n",
    "# Print results\n",
    "print(\"\\nRMSE scores for each fold:\")\n",
    "for i, score in enumerate(rmse_scores, 1):\n",
    "    print(f\"Fold {i}: {score:.2f}\")\n",
    "print(f\"\\nAverage RMSE: {rmse_scores.mean():.2f}\")\n",
    "\n",
    "print(\"\\nR2 scores for each fold:\")\n",
    "for i, score in enumerate(r2_scores, 1):\n",
    "    print(f\"Fold {i}: {score:.3f}\")\n",
    "print(f\"\\nAverage R2: {r2_scores.mean():.3f}\")"
   ]
  },
  {
   "cell_type": "code",
   "execution_count": 23,
   "metadata": {},
   "outputs": [],
   "source": [
    "xgb=XGBRegressor(n_estimators=1000,\n",
    "    learning_rate=0.05,\n",
    "    max_depth=4,              # Limit tree depth to prevent dominance of one feature\n",
    "    colsample_bytree=0.7,     # Use only 70% of features in each tree\n",
    "    subsample=0.8,            # Use 80% of training instances per tree\n",
    "    min_child_weight=5,       # Require more observations per node\n",
    "    gamma=1,                  # Increase regularization\n",
    "    reg_lambda=2              # L2 regularization\n",
    ")\n",
    "xgb.fit(trainx,trainy)\n",
    "pred=xgb.predict(testx)"
   ]
  },
  {
   "cell_type": "code",
   "execution_count": 24,
   "metadata": {},
   "outputs": [
    {
     "name": "stdout",
     "output_type": "stream",
     "text": [
      "Cross-validated R² Score: 0.8361\n",
      "Cross-validated RMSE: 32146.2505\n"
     ]
    }
   ],
   "source": [
    "from sklearn.metrics import r2_score, mean_squared_error\n",
    "from sklearn.model_selection import cross_val_predict\n",
    "import numpy as np\n",
    "\n",
    "# Cross-validation to get predictions on training data\n",
    "cv_predictions = cross_val_predict(xgb, trainx, trainy, cv=5)\n",
    "\n",
    "# Calculate metrics\n",
    "r2 = r2_score(trainy, cv_predictions)\n",
    "rmse = np.sqrt(mean_squared_error(trainy, cv_predictions))\n",
    "\n",
    "print(f\"Cross-validated R² Score: {r2:.4f}\")\n",
    "print(f\"Cross-validated RMSE: {rmse:.4f}\")"
   ]
  },
  {
   "cell_type": "code",
   "execution_count": 25,
   "metadata": {},
   "outputs": [
    {
     "name": "stdout",
     "output_type": "stream",
     "text": [
      "Top Features by Importance:\n",
      "       Feature  Importance\n",
      "0  OverallQual    0.750485\n",
      "1    GrLivArea    0.097413\n",
      "3  TotalBsmtSF    0.041778\n",
      "2   GarageArea    0.038732\n",
      "5    YearBuilt    0.037941\n",
      "4     1stFlrSF    0.033651\n"
     ]
    },
    {
     "data": {
      "image/png": "[encoded data removed]",
      "text/plain": [
       "<Figure size 1000x800 with 1 Axes>"
      ]
     },
     "metadata": {},
     "output_type": "display_data"
    }
   ],
   "source": [
    "import pandas as pd\n",
    "import matplotlib.pyplot as plt\n",
    "\n",
    "# Get feature importances\n",
    "feature_importance = xgb.feature_importances_\n",
    "\n",
    "# Create a DataFrame for better visualization\n",
    "# Assuming trainx is a DataFrame with column names\n",
    "feature_names = trainx.columns\n",
    "importance_df = pd.DataFrame({\n",
    "    'Feature': feature_names,\n",
    "    'Importance': feature_importance\n",
    "})\n",
    "\n",
    "# Sort by importance\n",
    "importance_df = importance_df.sort_values('Importance', ascending=False)\n",
    "\n",
    "# Print top features\n",
    "print(\"Top Features by Importance:\")\n",
    "print(importance_df.head(15))\n",
    "\n",
    "# Plot feature importances\n",
    "plt.figure(figsize=(10, 8))\n",
    "plt.barh(importance_df['Feature'][:15], importance_df['Importance'][:15])\n",
    "plt.xlabel('Importance')\n",
    "plt.ylabel('Feature')\n",
    "plt.title('Top 15 Feature Importances')\n",
    "plt.gca().invert_yaxis()  # Highest importance at the top\n",
    "plt.tight_layout()\n",
    "plt.show()"
   ]
  },
  {
   "cell_type": "code",
   "execution_count": 26,
   "metadata": {},
   "outputs": [
    {
     "name": "stdout",
     "output_type": "stream",
     "text": [
      "Top Features by Importance (Balanced Model):\n",
      "       Feature  Importance\n",
      "0  OverallQual    0.263116\n",
      "1    GrLivArea    0.191516\n",
      "2  TotalBsmtSF    0.150883\n",
      "3   GarageArea    0.144963\n",
      "4    YearBuilt    0.127707\n",
      "5     1stFlrSF    0.121815\n"
     ]
    },
    {
     "data": {
      "image/png": "[encoded data removed]",
      "text/plain": [
       "<Figure size 1000x800 with 1 Axes>"
      ]
     },
     "metadata": {},
     "output_type": "display_data"
    },
    {
     "name": "stdout",
     "output_type": "stream",
     "text": [
      "Cross-validated R² Score: 0.8054\n",
      "Cross-validated RMSE: 35034.4546\n"
     ]
    }
   ],
   "source": [
    "# Define a new model with adjusted parameters\n",
    "balanced_xgb = XGBRegressor(\n",
    "    n_estimators=1000,\n",
    "    learning_rate=0.01,           # Reduced to limit dominant feature impact\n",
    "    max_depth=4,                  # Further reduced to prevent deep trees\n",
    "    colsample_bytree=0.2,         # Very aggressive feature sampling\n",
    "    colsample_bylevel=0.2,        # Add level-wise feature sampling\n",
    "    colsample_bynode=0.2,         # Add node-wise feature sampling\n",
    "    subsample=0.2,                # More aggressive row sampling\n",
    "    min_child_weight=10,          # Even more conservative splits\n",
    "    gamma=5,                      # Much higher minimum loss reduction\n",
    ")\n",
    "\n",
    "# Train the new model\n",
    "balanced_xgb.fit(trainx, trainy)\n",
    "\n",
    "# Get feature importances from the NEW model\n",
    "feature_importance = balanced_xgb.feature_importances_\n",
    "\n",
    "# Create DataFrame and visualize as before\n",
    "feature_names = trainx.columns\n",
    "importance_df = pd.DataFrame({\n",
    "    'Feature': feature_names,\n",
    "    'Importance': feature_importance\n",
    "})\n",
    "\n",
    "importance_df = importance_df.sort_values('Importance', ascending=False).reset_index(drop=True)\n",
    "print(\"Top Features by Importance (Balanced Model):\")\n",
    "print(importance_df.head(15))\n",
    "\n",
    "# Visualize\n",
    "plt.figure(figsize=(10, 8))\n",
    "plt.barh(importance_df['Feature'][:15], importance_df['Importance'][:15])\n",
    "plt.xlabel('Importance')\n",
    "plt.ylabel('Feature')\n",
    "plt.title('Top 15 Feature Importances (Balanced Model)')\n",
    "plt.gca().invert_yaxis()\n",
    "plt.tight_layout()\n",
    "plt.show()\n",
    "\n",
    "# Cross-validation to get predictions on training data\n",
    "cv_predictions = cross_val_predict(balanced_xgb, trainx, trainy, cv=5)\n",
    "\n",
    "# Calculate metrics\n",
    "r2 = r2_score(trainy, cv_predictions)\n",
    "rmse = np.sqrt(mean_squared_error(trainy, cv_predictions))\n",
    "\n",
    "print(f\"Cross-validated R² Score: {r2:.4f}\")\n",
    "print(f\"Cross-validated RMSE: {rmse:.4f}\")"
   ]
  }
 ],
 "metadata": {
  "kernelspec": {
   "display_name": "Python 3",
   "language": "python",
   "name": "python3"
  },
  "language_info": {
   "codemirror_mode": {
    "name": "ipython",
    "version": 3
   },
   "file_extension": ".py",
   "mimetype": "text/x-python",
   "name": "python",
   "nbconvert_exporter": "python",
   "pygments_lexer": "ipython3",
   "version": "3.12.3"
  }
 },
 "nbformat": 4,
 "nbformat_minor": 2
}
